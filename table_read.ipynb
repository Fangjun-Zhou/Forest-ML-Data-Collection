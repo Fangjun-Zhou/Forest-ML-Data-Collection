{
 "cells": [
  {
   "cell_type": "markdown",
   "id": "cedc7a5c-100c-4f97-9490-ab6d7cab6215",
   "metadata": {},
   "source": [
    "# Imports"
   ]
  },
  {
   "cell_type": "code",
   "execution_count": 1,
   "id": "8c29fa5d-177a-42b6-af72-76a54778ac7b",
   "metadata": {},
   "outputs": [],
   "source": [
    "import pandas"
   ]
  },
  {
   "cell_type": "markdown",
   "id": "f7d24f3f-f7d9-4351-9c14-5acb9404c043",
   "metadata": {},
   "source": [
    "# Read files"
   ]
  },
  {
   "cell_type": "code",
   "execution_count": 2,
   "id": "a0a36de4-7299-4cc1-ab49-70d0be9a05b9",
   "metadata": {},
   "outputs": [
    {
     "data": {
      "text/html": [
       "<div>\n",
       "<style scoped>\n",
       "    .dataframe tbody tr th:only-of-type {\n",
       "        vertical-align: middle;\n",
       "    }\n",
       "\n",
       "    .dataframe tbody tr th {\n",
       "        vertical-align: top;\n",
       "    }\n",
       "\n",
       "    .dataframe thead th {\n",
       "        text-align: right;\n",
       "    }\n",
       "</style>\n",
       "<table border=\"1\" class=\"dataframe\">\n",
       "  <thead>\n",
       "    <tr style=\"text-align: right;\">\n",
       "      <th></th>\n",
       "      <th>ans</th>\n",
       "    </tr>\n",
       "    <tr>\n",
       "      <th>audio</th>\n",
       "      <th></th>\n",
       "    </tr>\n",
       "  </thead>\n",
       "  <tbody>\n",
       "    <tr>\n",
       "      <th>Samples1</th>\n",
       "      <td>1</td>\n",
       "    </tr>\n",
       "    <tr>\n",
       "      <th>Samples2</th>\n",
       "      <td>2</td>\n",
       "    </tr>\n",
       "    <tr>\n",
       "      <th>Samples3</th>\n",
       "      <td>3</td>\n",
       "    </tr>\n",
       "  </tbody>\n",
       "</table>\n",
       "</div>"
      ],
      "text/plain": [
       "          ans\n",
       "audio        \n",
       "Samples1    1\n",
       "Samples2    2\n",
       "Samples3    3"
      ]
     },
     "execution_count": 2,
     "metadata": {},
     "output_type": "execute_result"
    }
   ],
   "source": [
    "df = pandas.read_csv(\"standard_ans.csv\")\n",
    "df = df.set_index(\"audio\")\n",
    "df"
   ]
  },
  {
   "cell_type": "markdown",
   "id": "fbca8b2e-bd54-4416-a136-9e61b987dab1",
   "metadata": {},
   "source": [
    "# Find answer"
   ]
  },
  {
   "cell_type": "code",
   "execution_count": 6,
   "id": "cd194ee0-b6f2-4b80-b44c-02c8be64208a",
   "metadata": {},
   "outputs": [
    {
     "data": {
      "text/plain": [
       "True"
      ]
     },
     "execution_count": 6,
     "metadata": {},
     "output_type": "execute_result"
    }
   ],
   "source": [
    "\"Samples1\" in list(df.index)"
   ]
  },
  {
   "cell_type": "code",
   "execution_count": 8,
   "id": "1c7358ca-ddfa-4c98-ac8b-4054265162ab",
   "metadata": {},
   "outputs": [
    {
     "data": {
      "text/plain": [
       "False"
      ]
     },
     "execution_count": 8,
     "metadata": {},
     "output_type": "execute_result"
    }
   ],
   "source": [
    "\"Samples4\" in list(df.index)"
   ]
  },
  {
   "cell_type": "code",
   "execution_count": 9,
   "id": "484eeeba-6b28-4c42-b7f9-c85dcbb29a9e",
   "metadata": {},
   "outputs": [
    {
     "data": {
      "text/plain": [
       "2"
      ]
     },
     "execution_count": 9,
     "metadata": {},
     "output_type": "execute_result"
    }
   ],
   "source": [
    "df.at[\"Samples2\", \"ans\"]"
   ]
  }
 ],
 "metadata": {
  "kernelspec": {
   "display_name": "Python 3 (ipykernel)",
   "language": "python",
   "name": "python3"
  },
  "language_info": {
   "codemirror_mode": {
    "name": "ipython",
    "version": 3
   },
   "file_extension": ".py",
   "mimetype": "text/x-python",
   "name": "python",
   "nbconvert_exporter": "python",
   "pygments_lexer": "ipython3",
   "version": "3.8.10"
  }
 },
 "nbformat": 4,
 "nbformat_minor": 5
}
