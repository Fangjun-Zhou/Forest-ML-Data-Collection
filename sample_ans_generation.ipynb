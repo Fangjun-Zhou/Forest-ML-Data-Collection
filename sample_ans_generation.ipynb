{
 "cells": [
  {
   "cell_type": "markdown",
   "id": "4ba0b712-e0b8-4e65-ab53-7699b5dc85bb",
   "metadata": {},
   "source": [
    "# Get the standard set file list"
   ]
  },
  {
   "cell_type": "code",
   "execution_count": 1,
   "id": "f4517a67-f1a3-4399-b7a8-601e548be517",
   "metadata": {},
   "outputs": [
    {
     "data": {
      "text/plain": [
       "['Sample_01.mp3',\n",
       " 'Sample_02.mp3',\n",
       " 'Sample_03.mp3',\n",
       " 'Sample_04.mp3',\n",
       " 'Sample_05.mp3',\n",
       " 'Sample_06.mp3',\n",
       " 'Sample_07.mp3',\n",
       " 'Sample_08.mp3',\n",
       " 'Sample_09.mp3',\n",
       " 'Sample_10.mp3']"
      ]
     },
     "execution_count": 1,
     "metadata": {},
     "output_type": "execute_result"
    }
   ],
   "source": [
    "import os\n",
    "\n",
    "audioFileList = os.listdir(\"standard_set/\")\n",
    "audioFileList.sort()\n",
    "audioFileList"
   ]
  },
  {
   "cell_type": "markdown",
   "id": "9dbc656e-0dc0-43ab-b168-ad2cab53537a",
   "metadata": {},
   "source": [
    "# Generate a answer data set"
   ]
  },
  {
   "cell_type": "code",
   "execution_count": 2,
   "id": "4b687881-d56d-4a12-a991-0095d4336c43",
   "metadata": {},
   "outputs": [],
   "source": [
    "import pandas"
   ]
  },
  {
   "cell_type": "code",
   "execution_count": 3,
   "id": "fe190834-8cfa-47dc-83dd-7d030c494e32",
   "metadata": {},
   "outputs": [
    {
     "data": {
      "text/html": [
       "<div>\n",
       "<style scoped>\n",
       "    .dataframe tbody tr th:only-of-type {\n",
       "        vertical-align: middle;\n",
       "    }\n",
       "\n",
       "    .dataframe tbody tr th {\n",
       "        vertical-align: top;\n",
       "    }\n",
       "\n",
       "    .dataframe thead th {\n",
       "        text-align: right;\n",
       "    }\n",
       "</style>\n",
       "<table border=\"1\" class=\"dataframe\">\n",
       "  <thead>\n",
       "    <tr style=\"text-align: right;\">\n",
       "      <th></th>\n",
       "      <th>audio</th>\n",
       "    </tr>\n",
       "  </thead>\n",
       "  <tbody>\n",
       "    <tr>\n",
       "      <th>0</th>\n",
       "      <td>Sample_01.mp3</td>\n",
       "    </tr>\n",
       "    <tr>\n",
       "      <th>1</th>\n",
       "      <td>Sample_02.mp3</td>\n",
       "    </tr>\n",
       "    <tr>\n",
       "      <th>2</th>\n",
       "      <td>Sample_03.mp3</td>\n",
       "    </tr>\n",
       "    <tr>\n",
       "      <th>3</th>\n",
       "      <td>Sample_04.mp3</td>\n",
       "    </tr>\n",
       "    <tr>\n",
       "      <th>4</th>\n",
       "      <td>Sample_05.mp3</td>\n",
       "    </tr>\n",
       "    <tr>\n",
       "      <th>5</th>\n",
       "      <td>Sample_06.mp3</td>\n",
       "    </tr>\n",
       "    <tr>\n",
       "      <th>6</th>\n",
       "      <td>Sample_07.mp3</td>\n",
       "    </tr>\n",
       "    <tr>\n",
       "      <th>7</th>\n",
       "      <td>Sample_08.mp3</td>\n",
       "    </tr>\n",
       "    <tr>\n",
       "      <th>8</th>\n",
       "      <td>Sample_09.mp3</td>\n",
       "    </tr>\n",
       "    <tr>\n",
       "      <th>9</th>\n",
       "      <td>Sample_10.mp3</td>\n",
       "    </tr>\n",
       "  </tbody>\n",
       "</table>\n",
       "</div>"
      ],
      "text/plain": [
       "           audio\n",
       "0  Sample_01.mp3\n",
       "1  Sample_02.mp3\n",
       "2  Sample_03.mp3\n",
       "3  Sample_04.mp3\n",
       "4  Sample_05.mp3\n",
       "5  Sample_06.mp3\n",
       "6  Sample_07.mp3\n",
       "7  Sample_08.mp3\n",
       "8  Sample_09.mp3\n",
       "9  Sample_10.mp3"
      ]
     },
     "execution_count": 3,
     "metadata": {},
     "output_type": "execute_result"
    }
   ],
   "source": [
    "df = pandas.DataFrame(data={\"audio\": audioFileList})\n",
    "df"
   ]
  },
  {
   "cell_type": "code",
   "execution_count": 4,
   "id": "b66126dc-c13d-43c5-a795-1f4ba1b7385c",
   "metadata": {},
   "outputs": [
    {
     "data": {
      "text/html": [
       "<div>\n",
       "<style scoped>\n",
       "    .dataframe tbody tr th:only-of-type {\n",
       "        vertical-align: middle;\n",
       "    }\n",
       "\n",
       "    .dataframe tbody tr th {\n",
       "        vertical-align: top;\n",
       "    }\n",
       "\n",
       "    .dataframe thead th {\n",
       "        text-align: right;\n",
       "    }\n",
       "</style>\n",
       "<table border=\"1\" class=\"dataframe\">\n",
       "  <thead>\n",
       "    <tr style=\"text-align: right;\">\n",
       "      <th></th>\n",
       "      <th>audio</th>\n",
       "      <th>ans</th>\n",
       "    </tr>\n",
       "  </thead>\n",
       "  <tbody>\n",
       "    <tr>\n",
       "      <th>0</th>\n",
       "      <td>Sample_01.mp3</td>\n",
       "      <td>01</td>\n",
       "    </tr>\n",
       "    <tr>\n",
       "      <th>1</th>\n",
       "      <td>Sample_02.mp3</td>\n",
       "      <td>02</td>\n",
       "    </tr>\n",
       "    <tr>\n",
       "      <th>2</th>\n",
       "      <td>Sample_03.mp3</td>\n",
       "      <td>03</td>\n",
       "    </tr>\n",
       "    <tr>\n",
       "      <th>3</th>\n",
       "      <td>Sample_04.mp3</td>\n",
       "      <td>04</td>\n",
       "    </tr>\n",
       "    <tr>\n",
       "      <th>4</th>\n",
       "      <td>Sample_05.mp3</td>\n",
       "      <td>05</td>\n",
       "    </tr>\n",
       "    <tr>\n",
       "      <th>5</th>\n",
       "      <td>Sample_06.mp3</td>\n",
       "      <td>06</td>\n",
       "    </tr>\n",
       "    <tr>\n",
       "      <th>6</th>\n",
       "      <td>Sample_07.mp3</td>\n",
       "      <td>07</td>\n",
       "    </tr>\n",
       "    <tr>\n",
       "      <th>7</th>\n",
       "      <td>Sample_08.mp3</td>\n",
       "      <td>08</td>\n",
       "    </tr>\n",
       "    <tr>\n",
       "      <th>8</th>\n",
       "      <td>Sample_09.mp3</td>\n",
       "      <td>09</td>\n",
       "    </tr>\n",
       "    <tr>\n",
       "      <th>9</th>\n",
       "      <td>Sample_10.mp3</td>\n",
       "      <td>10</td>\n",
       "    </tr>\n",
       "  </tbody>\n",
       "</table>\n",
       "</div>"
      ],
      "text/plain": [
       "           audio ans\n",
       "0  Sample_01.mp3  01\n",
       "1  Sample_02.mp3  02\n",
       "2  Sample_03.mp3  03\n",
       "3  Sample_04.mp3  04\n",
       "4  Sample_05.mp3  05\n",
       "5  Sample_06.mp3  06\n",
       "6  Sample_07.mp3  07\n",
       "7  Sample_08.mp3  08\n",
       "8  Sample_09.mp3  09\n",
       "9  Sample_10.mp3  10"
      ]
     },
     "execution_count": 4,
     "metadata": {},
     "output_type": "execute_result"
    }
   ],
   "source": [
    "df[\"ans\"] = [item.split(\"_\")[1].split(\".\")[0] for item in audioFileList]\n",
    "df"
   ]
  },
  {
   "cell_type": "markdown",
   "id": "3ceff9fc-561f-4d7d-a791-868e854b6294",
   "metadata": {},
   "source": [
    "# Save answer"
   ]
  },
  {
   "cell_type": "code",
   "execution_count": 6,
   "id": "a30aa975-1ada-44c4-abc6-afdedda32d3e",
   "metadata": {},
   "outputs": [],
   "source": [
    "df.to_csv(\"standard_ans.csv\", index=False)"
   ]
  }
 ],
 "metadata": {
  "kernelspec": {
   "display_name": "Python 3 (ipykernel)",
   "language": "python",
   "name": "python3"
  },
  "language_info": {
   "codemirror_mode": {
    "name": "ipython",
    "version": 3
   },
   "file_extension": ".py",
   "mimetype": "text/x-python",
   "name": "python",
   "nbconvert_exporter": "python",
   "pygments_lexer": "ipython3",
   "version": "3.8.10"
  }
 },
 "nbformat": 4,
 "nbformat_minor": 5
}
